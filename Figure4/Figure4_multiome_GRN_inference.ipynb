{
 "cells": [
  {
   "cell_type": "code",
   "execution_count": 1,
   "id": "10bfdfed-b96b-4e3f-ac7b-bbae724e4942",
   "metadata": {},
   "outputs": [
    {
     "name": "stderr",
     "output_type": "stream",
     "text": [
      "/data/jiangjunyao/miniconda3/envs/normal/lib/python3.9/site-packages/loompy/bus_file.py:68: NumbaDeprecationWarning: \u001b[1mThe 'nopython' keyword argument was not supplied to the 'numba.jit' decorator. The implicit default value for this argument is currently False, but it will be changed to True in Numba 0.59.0. See https://numba.readthedocs.io/en/stable/reference/deprecation.html#deprecation-of-object-mode-fall-back-behaviour-when-using-jit for details.\u001b[0m\n",
      "  def twobit_to_dna(twobit: int, size: int) -> str:\n",
      "/data/jiangjunyao/miniconda3/envs/normal/lib/python3.9/site-packages/loompy/bus_file.py:85: NumbaDeprecationWarning: \u001b[1mThe 'nopython' keyword argument was not supplied to the 'numba.jit' decorator. The implicit default value for this argument is currently False, but it will be changed to True in Numba 0.59.0. See https://numba.readthedocs.io/en/stable/reference/deprecation.html#deprecation-of-object-mode-fall-back-behaviour-when-using-jit for details.\u001b[0m\n",
      "  def dna_to_twobit(dna: str) -> int:\n",
      "/data/jiangjunyao/miniconda3/envs/normal/lib/python3.9/site-packages/loompy/bus_file.py:102: NumbaDeprecationWarning: \u001b[1mThe 'nopython' keyword argument was not supplied to the 'numba.jit' decorator. The implicit default value for this argument is currently False, but it will be changed to True in Numba 0.59.0. See https://numba.readthedocs.io/en/stable/reference/deprecation.html#deprecation-of-object-mode-fall-back-behaviour-when-using-jit for details.\u001b[0m\n",
      "  def twobit_1hamming(twobit: int, size: int) -> List[int]:\n"
     ]
    }
   ],
   "source": [
    "import pandas as pd\n",
    "import numpy as np\n",
    "import matplotlib.pyplot as plt\n",
    "%matplotlib inline\n",
    "import scanpy as sc\n",
    "import seaborn as sns\n",
    "import os\n",
    "\n",
    "import os, sys, shutil, importlib, glob\n",
    "from tqdm.notebook import tqdm\n",
    "from celloracle import motif_analysis as ma\n",
    "import celloracle as co"
   ]
  },
  {
   "cell_type": "code",
   "execution_count": 10,
   "id": "603dc899-00ce-498f-8243-5b79fb3445c5",
   "metadata": {},
   "outputs": [],
   "source": [
    "#plt.rcParams[\"font.family\"] = \"arial\"\n",
    "plt.rcParams[\"figure.figsize\"] = [6,6]\n",
    "%config InlineBackend.figure_format = 'retina'\n",
    "plt.rcParams[\"savefig.dpi\"] = 600\n",
    "\n",
    "%matplotlib inline"
   ]
  },
  {
   "cell_type": "code",
   "execution_count": null,
   "id": "f6f1b49e-4f11-4913-86c5-b6dca7a130a3",
   "metadata": {},
   "outputs": [],
   "source": [
    "peak = pd.read_csv('/data/jiangjunyao/polyATAC/nmp_final/ct_p2g/all_p2g.csv',index_col=0)\n",
    "peak.columns = ['peak_id','gene_short_name']\n",
    "tfi = ma.TFinfo(peak_data_frame=peak,\n",
    "            ref_genome='mm10',\n",
    "            genomes_dir=None)\n",
    "tfi.scan(fpr=0.02,\n",
    "     motifs=None,  # If you enter None, default motifs will be loaded.\n",
    "     verbose=True)\n",
    "tfi.reset_filtering()\n",
    "# Do filtering\n",
    "tfi.filter_motifs_by_score(threshold=10)\n",
    "# Format post-filtering results.\n",
    "tfi.make_TFinfo_dataframe_and_dictionary(verbose=True)\n",
    "df = tfi.to_dataframe()"
   ]
  },
  {
   "cell_type": "code",
   "execution_count": 50,
   "id": "acb01e7c-e1c2-4cfd-b6d2-59d89117b904",
   "metadata": {},
   "outputs": [],
   "source": [
    "df.to_csv('/data/jiangjunyao/polyATAC/nmp_final/ct_p2g/ct_p2g_baseGRN.csv')"
   ]
  },
  {
   "cell_type": "code",
   "execution_count": 3,
   "id": "04a26a15-23a0-4bec-9a16-7eb0fa618916",
   "metadata": {},
   "outputs": [
    {
     "name": "stdout",
     "output_type": "stream",
     "text": [
      "View of AnnData object with n_obs × n_vars = 29633 × 2077\n",
      "    obs: 'nCount_RNA', 'nFeature_RNA', 'Batch', 'celltype', 'barcodes', 'pgen', 'rare_barcodes', 'fatebias'\n",
      "    var: 'vst.mean', 'vst.variance', 'vst.variance.expected', 'vst.variance.standardized', 'vst.variable', 'highly_variable', 'means', 'dispersions', 'dispersions_norm'\n",
      "    uns: 'log1p', 'hvg'\n",
      "    obsm: 'X_scvi', 'X_umap'\n",
      "build grn based on celloracle\n",
      "WARNING: adata.X seems to be already log-transformed.\n",
      "Auto-selected k is :50\n"
     ]
    },
    {
     "data": {
      "application/vnd.jupyter.widget-view+json": {
       "model_id": "59472cdbd0484d89a718aaa6729c0756",
       "version_major": 2,
       "version_minor": 0
      },
      "text/plain": [
       "  0%|          | 0/5 [00:00<?, ?it/s]"
      ]
     },
     "metadata": {},
     "output_type": "display_data"
    },
    {
     "name": "stdout",
     "output_type": "stream",
     "text": [
      "Inferring GRN for Paraxial mesoderm...\n"
     ]
    },
    {
     "data": {
      "application/vnd.jupyter.widget-view+json": {
       "model_id": "47e009b4e0824bbbaf8fafd06fb3da53",
       "version_major": 2,
       "version_minor": 0
      },
      "text/plain": [
       "  0%|          | 0/792 [00:00<?, ?it/s]"
      ]
     },
     "metadata": {},
     "output_type": "display_data"
    },
    {
     "name": "stdout",
     "output_type": "stream",
     "text": [
      "Inferring GRN for Paraxial_mesoderm_bias...\n"
     ]
    },
    {
     "data": {
      "application/vnd.jupyter.widget-view+json": {
       "model_id": "61413268ad904a9c96bd53390c0c79f6",
       "version_major": 2,
       "version_minor": 0
      },
      "text/plain": [
       "  0%|          | 0/792 [00:00<?, ?it/s]"
      ]
     },
     "metadata": {},
     "output_type": "display_data"
    },
    {
     "name": "stdout",
     "output_type": "stream",
     "text": [
      "Inferring GRN for Spinal cord...\n"
     ]
    },
    {
     "data": {
      "application/vnd.jupyter.widget-view+json": {
       "model_id": "d9d5cd9b30604f849a35a3b592c7ba18",
       "version_major": 2,
       "version_minor": 0
      },
      "text/plain": [
       "  0%|          | 0/792 [00:00<?, ?it/s]"
      ]
     },
     "metadata": {},
     "output_type": "display_data"
    },
    {
     "name": "stdout",
     "output_type": "stream",
     "text": [
      "Inferring GRN for Spinal_cord_bias...\n"
     ]
    },
    {
     "data": {
      "application/vnd.jupyter.widget-view+json": {
       "model_id": "026deeb0034d495aa2f580f4334839ae",
       "version_major": 2,
       "version_minor": 0
      },
      "text/plain": [
       "  0%|          | 0/792 [00:00<?, ?it/s]"
      ]
     },
     "metadata": {},
     "output_type": "display_data"
    },
    {
     "name": "stdout",
     "output_type": "stream",
     "text": [
      "Inferring GRN for other...\n"
     ]
    },
    {
     "data": {
      "application/vnd.jupyter.widget-view+json": {
       "model_id": "35f78f9c41af41b9888ae98380f3d2a1",
       "version_major": 2,
       "version_minor": 0
      },
      "text/plain": [
       "  0%|          | 0/792 [00:00<?, ?it/s]"
      ]
     },
     "metadata": {},
     "output_type": "display_data"
    }
   ],
   "source": [
    "### feature selection\n",
    "adata1 = sc.read_h5ad('/data/jiangjunyao/polyATAC/nmp_final/nmp_sp_pm_all_sample.h5ad')\n",
    "nmp_deg = pd.read_csv('/data/jiangjunyao/polyATAC/nmp_final/nmp_pseudotime_module/only_rna/group_df.csv',index_col=0)\n",
    "sc.pp.normalize_total(adata1)\n",
    "sc.pp.log1p(adata1)\n",
    "sc.pp.highly_variable_genes(adata1,n_top_genes=2000,subset=False)\n",
    "nmp_deg = nmp_deg.index.tolist()\n",
    "nmp_hvg = adata1.var_names[adata1.var['highly_variable']].tolist()\n",
    "all_gene = nmp_deg+nmp_hvg\n",
    "all_gene = list(set(all_gene))\n",
    "adata_use = adata1[:,all_gene]\n",
    "print(adata_use)\n",
    "base_GRN = pd.read_csv('/data/jiangjunyao/polyATAC/nmp_final/ct_p2g/ct_p2g_baseGRN.csv')\n",
    "def run_celloracle(adata,baseGRN=None,group='celltype',\n",
    "                       embedding_name='X_umap',ncores=10,filter=None):\n",
    "        print('build grn based on celloracle')\n",
    "        oracle = co.Oracle()\n",
    "        oracle.import_anndata_as_raw_count(adata=adata,\n",
    "                                   cluster_column_name=group,\n",
    "                                   embedding_name=embedding_name)\n",
    "        oracle.import_TF_data(TF_info_matrix=baseGRN)\n",
    "        oracle.pcs=adata_use.obsm['X_scvi']\n",
    "        #n_comps = np.where(np.diff(np.diff(np.cumsum(oracle.pca.explained_variance_ratio_))>0.002))[0][0]\n",
    "        n_cell = oracle.adata.shape[0]\n",
    "        k = 50\n",
    "        print(f\"Auto-selected k is :{k}\")\n",
    "        oracle.knn_imputation(n_pca_dims=10, k=k, balanced=True, b_sight=k*8,\n",
    "                              b_maxl=k*4, n_jobs=ncores)\n",
    "        return oracle\n",
    "sc.pp.normalize_total(adata_use)\n",
    "oracle=run_celloracle(adata_use,base_GRN,'fatebias')\n",
    "links = oracle.get_links(cluster_name_for_GRN_unit='fatebias', alpha=10,\n",
    "                         verbose_level=10)"
   ]
  },
  {
   "cell_type": "code",
   "execution_count": 4,
   "id": "49519453-44cd-4c7b-8e45-602608caff6e",
   "metadata": {},
   "outputs": [],
   "source": [
    "links.filter_links(p=0.001, weight=\"coef_abs\", threshold_number=2000)\n",
    "links.get_network_score()"
   ]
  },
  {
   "cell_type": "code",
   "execution_count": 49,
   "id": "182d182d-757b-4df1-8b1c-890e2075f7f6",
   "metadata": {},
   "outputs": [],
   "source": [
    "links.merged_score.to_csv('/data/jiangjunyao/polyATAC/nmp_final/celloracle_grn/grn_score.csv')"
   ]
  }
 ],
 "metadata": {
  "kernelspec": {
   "display_name": "Python (ageas)",
   "language": "python",
   "name": "ageas"
  },
  "language_info": {
   "codemirror_mode": {
    "name": "ipython",
    "version": 3
   },
   "file_extension": ".py",
   "mimetype": "text/x-python",
   "name": "python",
   "nbconvert_exporter": "python",
   "pygments_lexer": "ipython3",
   "version": "3.9.19"
  }
 },
 "nbformat": 4,
 "nbformat_minor": 5
}
